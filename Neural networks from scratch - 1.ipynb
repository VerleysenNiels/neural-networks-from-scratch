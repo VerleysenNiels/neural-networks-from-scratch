{
 "cells": [
  {
   "cell_type": "markdown",
   "id": "8683732b",
   "metadata": {},
   "source": [
    "# Neural networks from scratch (part 1)\n",
    "These notebooks are me following along the course on Youtube.\n",
    "I find it a great way to refresh my understanding of neural networks.\n",
    "\n",
    "If you want to do this yourself, you can find the course here:\n",
    "\n",
    "https://www.youtube.com/watch?v=Wo5dMEP_BbI&list=PLQVvvaa0QuDcjD5BAw2DxE6OF2tius3V3"
   ]
  },
  {
   "cell_type": "markdown",
   "id": "711f3e17",
   "metadata": {},
   "source": [
    "## Video 1: The neuron\n",
    "\n",
    "A neuron multiplies all the inputs with its weights and then takes the sum of these elements (= dot-product). Then it adds a bias to this value to come to an output. If we keep it like this we have a linear function (output = weights * inputs + bias) and of course the neuron is very limited in what it can learn. Therefore the output of the neuron is passed through an activation function first (activations seem to be discussed more in depth in later videos)\n"
   ]
  },
  {
   "cell_type": "code",
   "execution_count": 1,
   "id": "8e9f9641",
   "metadata": {},
   "outputs": [],
   "source": [
    "import numpy as np\n",
    "import matplotlib.pyplot as plt"
   ]
  },
  {
   "cell_type": "markdown",
   "id": "672ba0d4",
   "metadata": {},
   "source": [
    "Fixed implementation of what a single neuron does. (no activation function)\n",
    "In practice the neuron is some kind of object that keeps track of its weights and bias, as they need to be changed in order for the neuron to learn.\n",
    "Here we just go through the computation manually."
   ]
  },
  {
   "cell_type": "code",
   "execution_count": 2,
   "id": "172a80aa",
   "metadata": {},
   "outputs": [
    {
     "data": {
      "text/plain": [
       "13.935"
      ]
     },
     "execution_count": 2,
     "metadata": {},
     "output_type": "execute_result"
    }
   ],
   "source": [
    "input_vector = [3.2, 7.2, 0.3]\n",
    "weights = [0.63, 1.2, 0.93]\n",
    "bias = 3\n",
    "\n",
    "output = input_vector[0] * weights[0] + input_vector[1] * weights[1] + input_vector[2] * weights[2] + bias\n",
    "output"
   ]
  },
  {
   "cell_type": "markdown",
   "id": "4efbf80e",
   "metadata": {},
   "source": [
    "# Video 2: Layers\n",
    "A single neuron can only learn so much, that's why we combine multiple neurons. In the same step we call this a layer and multiple layers combined make up the neural network.\n",
    "So continuing with the previous example we can make a layer with three neurons like this:"
   ]
  },
  {
   "cell_type": "code",
   "execution_count": 3,
   "id": "d0aa1c32",
   "metadata": {},
   "outputs": [
    {
     "data": {
      "text/plain": [
       "[13.935, -1.1600000000000006, -1.8399999999999994]"
      ]
     },
     "execution_count": 3,
     "metadata": {},
     "output_type": "execute_result"
    }
   ],
   "source": [
    "# Output of previous layer\n",
    "input_vector = [3.2, 7.2, 0.3]\n",
    "\n",
    "# Neuron 1\n",
    "weights_1 = [0.63, 1.2, 0.93]\n",
    "bias_1 = 3\n",
    "\n",
    "# Neuron 2\n",
    "weights_2 = [1.4, -0.7, 2.1]\n",
    "bias_2 = -1.23\n",
    "\n",
    "# Neuron 3\n",
    "weights_3 = [-1.2, 0.1, 3.5]\n",
    "bias_3 = 0.23\n",
    "\n",
    "# Output of this layer\n",
    "output = [\n",
    "    input_vector[0] * weights_1[0] + input_vector[1] * weights_1[1] + input_vector[2] * weights_1[2] + bias_1,\n",
    "    input_vector[0] * weights_2[0] + input_vector[1] * weights_2[1] + input_vector[2] * weights_2[2] + bias_2,\n",
    "    input_vector[0] * weights_3[0] + input_vector[1] * weights_3[1] + input_vector[2] * weights_3[2] + bias_3\n",
    "]\n",
    "\n",
    "output"
   ]
  }
 ],
 "metadata": {
  "interpreter": {
   "hash": "7b03be9e07b1dc030a647a403c994d1f709ab3169abfdd5c15fecb89c5578e3a"
  },
  "kernelspec": {
   "display_name": "Python 3.6.7 64-bit",
   "language": "python",
   "name": "python3"
  },
  "language_info": {
   "codemirror_mode": {
    "name": "ipython",
    "version": 3
   },
   "file_extension": ".py",
   "mimetype": "text/x-python",
   "name": "python",
   "nbconvert_exporter": "python",
   "pygments_lexer": "ipython3",
   "version": "3.6.7"
  }
 },
 "nbformat": 4,
 "nbformat_minor": 5
}
